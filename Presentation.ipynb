{
 "cells": [
  {
   "cell_type": "markdown",
   "metadata": {
    "slideshow": {
     "slide_type": "slide"
    }
   },
   "source": [
    "# Beyond Excel: Notebooks, Pandas, and Python\n",
    "\n",
    "Brenton Paulsen\n",
    "\n",
    "Hack Salem\n",
    "\n",
    "January 9, 2019"
   ]
  },
  {
   "cell_type": "markdown",
   "metadata": {
    "slideshow": {
     "slide_type": "slide"
    }
   },
   "source": [
    "# Data Workflows"
   ]
  },
  {
   "cell_type": "markdown",
   "metadata": {},
   "source": [
    "In our example (and in practice), analytics follows a similar cycle.\n",
    "\n",
    "1. Gather Data\n",
    "2. Shape Data\n",
    "3. Analyze\n",
    "4. Visualize and Share Results\n",
    "\n",
    "\n",
    "Most of the time, most effort is spent in getting the data ready to analyze. Unfortunately, the valuable part of the cycle is where least time is spent.\n",
    "\n",
    "**Our goal is to spend more time working with data and less time processing it**."
   ]
  },
  {
   "cell_type": "markdown",
   "metadata": {
    "slideshow": {
     "slide_type": "slide"
    }
   },
   "source": [
    "## What are the problems with spreadsheet tools?"
   ]
  },
  {
   "cell_type": "markdown",
   "metadata": {},
   "source": [
    "### Issues in Practice\n",
    "- Data limits: Excel limits to 1,048,576 rows and 15 digits of precision.\n",
    "- Connection to live data: These tools are limited in ability to refresh from live sources.\n",
    "- Programming: Spreadsheet formula are severly limited compared to general purpose programming languages."
   ]
  },
  {
   "cell_type": "markdown",
   "metadata": {},
   "source": [
    "### Issues in Process\n",
    "\n",
    "- Reproducibility: Spreadsheets hide methodology. Where did the data come from? How was it processed?\n",
    "- Context: There is no inherent place to explain context. What's the story behind this analysis? Who wanted it?"
   ]
  },
  {
   "cell_type": "markdown",
   "metadata": {
    "slideshow": {
     "slide_type": "slide"
    }
   },
   "source": [
    "# Notebooks"
   ]
  },
  {
   "cell_type": "markdown",
   "metadata": {},
   "source": [
    "Notebooks are interactive and visual REPLs (Read–eval–print loops).\n",
    "\n",
    "The notebook itself is a document that combines narrative, code, and results.\n",
    "\n",
    "- Narrative is usually formatted in Markdown or similar.\n",
    "\n",
    "- Lines of codes are combined into _cells_.\n",
    "\n",
    "- The output of code is HTML, or results that the notebook interprets as HTML."
   ]
  },
  {
   "cell_type": "markdown",
   "metadata": {},
   "source": [
    "There are several notebook tools: \n",
    "* [Jupyter](https://jupyter.org/index.html)\n",
    "    * Azure Notebooks\n",
    "    * AWS SageMaker Notebook\n",
    "    * Google Colaboratory\n",
    "\n",
    "\n",
    "* Wolfram Mathematica\n",
    "* Apache Zeppelin\n",
    "* Apache Spark\n",
    "\n",
    "These notebook tools are usually web based."
   ]
  },
  {
   "cell_type": "markdown",
   "metadata": {
    "slideshow": {
     "slide_type": "slide"
    }
   },
   "source": [
    "# Jupyter"
   ]
  },
  {
   "cell_type": "markdown",
   "metadata": {
    "slideshow": {
     "slide_type": "-"
    }
   },
   "source": [
    "For this presentation, I'll be using the Jupyter Notebook with a Python kernel."
   ]
  },
  {
   "cell_type": "markdown",
   "metadata": {
    "slideshow": {
     "slide_type": "slide"
    }
   },
   "source": [
    "# Pandas "
   ]
  },
  {
   "cell_type": "code",
   "execution_count": 1,
   "metadata": {
    "slideshow": {
     "slide_type": "-"
    }
   },
   "outputs": [],
   "source": [
    "import pandas as pd"
   ]
  },
  {
   "cell_type": "markdown",
   "metadata": {
    "slideshow": {
     "slide_type": "slide"
    }
   },
   "source": [
    "First, we need to load in a dataset. Pandas supports a wide variety of data formats for read & write.\n",
    "\n",
    "- CSV\n",
    "- JSON\n",
    "- HTML\n",
    "- Local clipboard\n",
    "- MS Excel\n",
    "- HDF-Format\n",
    "- Feather Format\n",
    "- Parquet Format\n",
    "- Msgpack\n",
    "- Stata\n",
    "- SAS\n",
    "- Python Pickle Format\n",
    "- SQL\n",
    "- Google Big Query"
   ]
  },
  {
   "cell_type": "markdown",
   "metadata": {
    "slideshow": {
     "slide_type": "slide"
    }
   },
   "source": [
    "I wanted to find something interesting, so I headed over to the Oregon Open Data Portal."
   ]
  },
  {
   "cell_type": "markdown",
   "metadata": {
    "slideshow": {
     "slide_type": "slide"
    }
   },
   "source": [
    "![Screenshot of Oregon Open Data Portal Home Page](OregonOpenData.PNG \"Oregon Open Data Portal\")"
   ]
  },
  {
   "cell_type": "markdown",
   "metadata": {
    "slideshow": {
     "slide_type": "slide"
    }
   },
   "source": [
    "## Loading in Data"
   ]
  },
  {
   "cell_type": "markdown",
   "metadata": {},
   "source": [
    "\"Fertilizer violations and penalties\" that will work for us!"
   ]
  },
  {
   "cell_type": "code",
   "execution_count": 2,
   "metadata": {
    "slideshow": {
     "slide_type": "-"
    }
   },
   "outputs": [
    {
     "data": {
      "text/html": [
       "<div>\n",
       "<style scoped>\n",
       "    .dataframe tbody tr th:only-of-type {\n",
       "        vertical-align: middle;\n",
       "    }\n",
       "\n",
       "    .dataframe tbody tr th {\n",
       "        vertical-align: top;\n",
       "    }\n",
       "\n",
       "    .dataframe thead th {\n",
       "        text-align: right;\n",
       "    }\n",
       "</style>\n",
       "<table border=\"1\" class=\"dataframe\">\n",
       "  <thead>\n",
       "    <tr style=\"text-align: right;\">\n",
       "      <th></th>\n",
       "      <th>Party</th>\n",
       "      <th>Type</th>\n",
       "      <th>Counts</th>\n",
       "      <th>Prohibited act</th>\n",
       "      <th>Amount</th>\n",
       "      <th>Date</th>\n",
       "    </tr>\n",
       "  </thead>\n",
       "  <tbody>\n",
       "    <tr>\n",
       "      <th>0</th>\n",
       "      <td>Soil Works, LLC</td>\n",
       "      <td>Fertilizer notice of violation</td>\n",
       "      <td>1.0</td>\n",
       "      <td>ORS 633.366(1)(a)</td>\n",
       "      <td>NaN</td>\n",
       "      <td>2018-06-24</td>\n",
       "    </tr>\n",
       "    <tr>\n",
       "      <th>1</th>\n",
       "      <td>Land View, Inc.</td>\n",
       "      <td>Fertilizer notice of violation</td>\n",
       "      <td>7.0</td>\n",
       "      <td>ORS 633.366(1)(e)</td>\n",
       "      <td>NaN</td>\n",
       "      <td>2018-06-21</td>\n",
       "    </tr>\n",
       "    <tr>\n",
       "      <th>2</th>\n",
       "      <td>Land View, Inc.</td>\n",
       "      <td>Fertilizer notice of violation</td>\n",
       "      <td>4.0</td>\n",
       "      <td>ORS 633.366(1)(a)</td>\n",
       "      <td>NaN</td>\n",
       "      <td>2018-06-21</td>\n",
       "    </tr>\n",
       "    <tr>\n",
       "      <th>3</th>\n",
       "      <td>Faust Bio-Agricultural Service, Inc.</td>\n",
       "      <td>Fertilizer notice of violation</td>\n",
       "      <td>1.0</td>\n",
       "      <td>ORS 633.366(1)(a)</td>\n",
       "      <td>NaN</td>\n",
       "      <td>2018-06-20</td>\n",
       "    </tr>\n",
       "    <tr>\n",
       "      <th>4</th>\n",
       "      <td>Bertels B.V.</td>\n",
       "      <td>Fertilizer notice of violation</td>\n",
       "      <td>1.0</td>\n",
       "      <td>ORS 633.366(1)(a)</td>\n",
       "      <td>NaN</td>\n",
       "      <td>2018-05-25</td>\n",
       "    </tr>\n",
       "    <tr>\n",
       "      <th>5</th>\n",
       "      <td>Bertels B.V.</td>\n",
       "      <td>Fertilizer civil penalty</td>\n",
       "      <td>1.0</td>\n",
       "      <td>ORS 633.366(1)(c)</td>\n",
       "      <td>$250</td>\n",
       "      <td>2018-05-25</td>\n",
       "    </tr>\n",
       "    <tr>\n",
       "      <th>6</th>\n",
       "      <td>Easy Gardener Products, Inc.</td>\n",
       "      <td>Fertilizer notice of violation</td>\n",
       "      <td>1.0</td>\n",
       "      <td>ORS 633.366(1)(e)</td>\n",
       "      <td>NaN</td>\n",
       "      <td>2018-05-24</td>\n",
       "    </tr>\n",
       "    <tr>\n",
       "      <th>7</th>\n",
       "      <td>Easy Gardener Products, Inc.</td>\n",
       "      <td>Fertilizer civil penalty</td>\n",
       "      <td>2.0</td>\n",
       "      <td>ORS 633.366(1)(a)</td>\n",
       "      <td>$250</td>\n",
       "      <td>2018-05-24</td>\n",
       "    </tr>\n",
       "    <tr>\n",
       "      <th>8</th>\n",
       "      <td>Sensational Solutions LLC</td>\n",
       "      <td>Fertilizer civil penalty</td>\n",
       "      <td>1.0</td>\n",
       "      <td>ORS 633.366(1)(a)</td>\n",
       "      <td>$125</td>\n",
       "      <td>2018-05-23</td>\n",
       "    </tr>\n",
       "    <tr>\n",
       "      <th>9</th>\n",
       "      <td>Growth Products Ltd.</td>\n",
       "      <td>Fertilizer civil penalty</td>\n",
       "      <td>2.0</td>\n",
       "      <td>ORS 633.366(1)(e)</td>\n",
       "      <td>$250</td>\n",
       "      <td>2018-05-23</td>\n",
       "    </tr>\n",
       "  </tbody>\n",
       "</table>\n",
       "</div>"
      ],
      "text/plain": [
       "                                  Party                            Type  \\\n",
       "0                       Soil Works, LLC  Fertilizer notice of violation   \n",
       "1                       Land View, Inc.  Fertilizer notice of violation   \n",
       "2                       Land View, Inc.  Fertilizer notice of violation   \n",
       "3  Faust Bio-Agricultural Service, Inc.  Fertilizer notice of violation   \n",
       "4                          Bertels B.V.  Fertilizer notice of violation   \n",
       "5                          Bertels B.V.        Fertilizer civil penalty   \n",
       "6          Easy Gardener Products, Inc.  Fertilizer notice of violation   \n",
       "7          Easy Gardener Products, Inc.        Fertilizer civil penalty   \n",
       "8             Sensational Solutions LLC        Fertilizer civil penalty   \n",
       "9                  Growth Products Ltd.        Fertilizer civil penalty   \n",
       "\n",
       "   Counts     Prohibited act Amount       Date  \n",
       "0     1.0  ORS 633.366(1)(a)    NaN 2018-06-24  \n",
       "1     7.0  ORS 633.366(1)(e)    NaN 2018-06-21  \n",
       "2     4.0  ORS 633.366(1)(a)    NaN 2018-06-21  \n",
       "3     1.0  ORS 633.366(1)(a)    NaN 2018-06-20  \n",
       "4     1.0  ORS 633.366(1)(a)    NaN 2018-05-25  \n",
       "5     1.0  ORS 633.366(1)(c)   $250 2018-05-25  \n",
       "6     1.0  ORS 633.366(1)(e)    NaN 2018-05-24  \n",
       "7     2.0  ORS 633.366(1)(a)   $250 2018-05-24  \n",
       "8     1.0  ORS 633.366(1)(a)   $125 2018-05-23  \n",
       "9     2.0  ORS 633.366(1)(e)   $250 2018-05-23  "
      ]
     },
     "execution_count": 2,
     "metadata": {},
     "output_type": "execute_result"
    }
   ],
   "source": [
    "df = pd.read_csv(\"Fertilizer_violations_and_penalties.csv\", parse_dates=[\"Date\"])\n",
    "df.head(10)"
   ]
  },
  {
   "cell_type": "markdown",
   "metadata": {
    "slideshow": {
     "slide_type": "subslide"
    }
   },
   "source": [
    "Pandas reads in the data and does the work of identifying the data types for us (mostly)."
   ]
  },
  {
   "cell_type": "code",
   "execution_count": 3,
   "metadata": {
    "slideshow": {
     "slide_type": "-"
    }
   },
   "outputs": [
    {
     "data": {
      "text/plain": [
       "Party                     object\n",
       "Type                      object\n",
       "Counts                   float64\n",
       "Prohibited act            object\n",
       "Amount                    object\n",
       "Date              datetime64[ns]\n",
       "dtype: object"
      ]
     },
     "execution_count": 3,
     "metadata": {},
     "output_type": "execute_result"
    }
   ],
   "source": [
    "df.dtypes"
   ]
  },
  {
   "cell_type": "markdown",
   "metadata": {
    "slideshow": {
     "slide_type": "slide"
    }
   },
   "source": [
    "## Projection"
   ]
  },
  {
   "cell_type": "markdown",
   "metadata": {},
   "source": [
    "We select which columns to present by passing a list of column names to the indexing operator of the data frame."
   ]
  },
  {
   "cell_type": "code",
   "execution_count": 4,
   "metadata": {},
   "outputs": [
    {
     "data": {
      "text/html": [
       "<div>\n",
       "<style scoped>\n",
       "    .dataframe tbody tr th:only-of-type {\n",
       "        vertical-align: middle;\n",
       "    }\n",
       "\n",
       "    .dataframe tbody tr th {\n",
       "        vertical-align: top;\n",
       "    }\n",
       "\n",
       "    .dataframe thead th {\n",
       "        text-align: right;\n",
       "    }\n",
       "</style>\n",
       "<table border=\"1\" class=\"dataframe\">\n",
       "  <thead>\n",
       "    <tr style=\"text-align: right;\">\n",
       "      <th></th>\n",
       "      <th>Party</th>\n",
       "      <th>Date</th>\n",
       "    </tr>\n",
       "  </thead>\n",
       "  <tbody>\n",
       "    <tr>\n",
       "      <th>0</th>\n",
       "      <td>Soil Works, LLC</td>\n",
       "      <td>2018-06-24</td>\n",
       "    </tr>\n",
       "    <tr>\n",
       "      <th>1</th>\n",
       "      <td>Land View, Inc.</td>\n",
       "      <td>2018-06-21</td>\n",
       "    </tr>\n",
       "    <tr>\n",
       "      <th>2</th>\n",
       "      <td>Land View, Inc.</td>\n",
       "      <td>2018-06-21</td>\n",
       "    </tr>\n",
       "    <tr>\n",
       "      <th>3</th>\n",
       "      <td>Faust Bio-Agricultural Service, Inc.</td>\n",
       "      <td>2018-06-20</td>\n",
       "    </tr>\n",
       "    <tr>\n",
       "      <th>4</th>\n",
       "      <td>Bertels B.V.</td>\n",
       "      <td>2018-05-25</td>\n",
       "    </tr>\n",
       "  </tbody>\n",
       "</table>\n",
       "</div>"
      ],
      "text/plain": [
       "                                  Party       Date\n",
       "0                       Soil Works, LLC 2018-06-24\n",
       "1                       Land View, Inc. 2018-06-21\n",
       "2                       Land View, Inc. 2018-06-21\n",
       "3  Faust Bio-Agricultural Service, Inc. 2018-06-20\n",
       "4                          Bertels B.V. 2018-05-25"
      ]
     },
     "execution_count": 4,
     "metadata": {},
     "output_type": "execute_result"
    }
   ],
   "source": [
    "df[[\"Party\", \"Date\"]].head(5)"
   ]
  },
  {
   "cell_type": "markdown",
   "metadata": {
    "slideshow": {
     "slide_type": "slide"
    }
   },
   "source": [
    "## Filtering"
   ]
  },
  {
   "cell_type": "markdown",
   "metadata": {},
   "source": [
    "We select which rows to show by passing a condition to the indexing operator of the data frame."
   ]
  },
  {
   "cell_type": "code",
   "execution_count": 5,
   "metadata": {},
   "outputs": [
    {
     "data": {
      "text/html": [
       "<div>\n",
       "<style scoped>\n",
       "    .dataframe tbody tr th:only-of-type {\n",
       "        vertical-align: middle;\n",
       "    }\n",
       "\n",
       "    .dataframe tbody tr th {\n",
       "        vertical-align: top;\n",
       "    }\n",
       "\n",
       "    .dataframe thead th {\n",
       "        text-align: right;\n",
       "    }\n",
       "</style>\n",
       "<table border=\"1\" class=\"dataframe\">\n",
       "  <thead>\n",
       "    <tr style=\"text-align: right;\">\n",
       "      <th></th>\n",
       "      <th>Party</th>\n",
       "      <th>Type</th>\n",
       "      <th>Counts</th>\n",
       "      <th>Prohibited act</th>\n",
       "      <th>Amount</th>\n",
       "      <th>Date</th>\n",
       "    </tr>\n",
       "  </thead>\n",
       "  <tbody>\n",
       "    <tr>\n",
       "      <th>0</th>\n",
       "      <td>Soil Works, LLC</td>\n",
       "      <td>Fertilizer notice of violation</td>\n",
       "      <td>1.0</td>\n",
       "      <td>ORS 633.366(1)(a)</td>\n",
       "      <td>NaN</td>\n",
       "      <td>2018-06-24</td>\n",
       "    </tr>\n",
       "    <tr>\n",
       "      <th>1</th>\n",
       "      <td>Land View, Inc.</td>\n",
       "      <td>Fertilizer notice of violation</td>\n",
       "      <td>7.0</td>\n",
       "      <td>ORS 633.366(1)(e)</td>\n",
       "      <td>NaN</td>\n",
       "      <td>2018-06-21</td>\n",
       "    </tr>\n",
       "    <tr>\n",
       "      <th>2</th>\n",
       "      <td>Land View, Inc.</td>\n",
       "      <td>Fertilizer notice of violation</td>\n",
       "      <td>4.0</td>\n",
       "      <td>ORS 633.366(1)(a)</td>\n",
       "      <td>NaN</td>\n",
       "      <td>2018-06-21</td>\n",
       "    </tr>\n",
       "    <tr>\n",
       "      <th>3</th>\n",
       "      <td>Faust Bio-Agricultural Service, Inc.</td>\n",
       "      <td>Fertilizer notice of violation</td>\n",
       "      <td>1.0</td>\n",
       "      <td>ORS 633.366(1)(a)</td>\n",
       "      <td>NaN</td>\n",
       "      <td>2018-06-20</td>\n",
       "    </tr>\n",
       "  </tbody>\n",
       "</table>\n",
       "</div>"
      ],
      "text/plain": [
       "                                  Party                            Type  \\\n",
       "0                       Soil Works, LLC  Fertilizer notice of violation   \n",
       "1                       Land View, Inc.  Fertilizer notice of violation   \n",
       "2                       Land View, Inc.  Fertilizer notice of violation   \n",
       "3  Faust Bio-Agricultural Service, Inc.  Fertilizer notice of violation   \n",
       "\n",
       "   Counts     Prohibited act Amount       Date  \n",
       "0     1.0  ORS 633.366(1)(a)    NaN 2018-06-24  \n",
       "1     7.0  ORS 633.366(1)(e)    NaN 2018-06-21  \n",
       "2     4.0  ORS 633.366(1)(a)    NaN 2018-06-21  \n",
       "3     1.0  ORS 633.366(1)(a)    NaN 2018-06-20  "
      ]
     },
     "execution_count": 5,
     "metadata": {},
     "output_type": "execute_result"
    }
   ],
   "source": [
    "df[df[\"Date\"] > '2018-06-01']"
   ]
  },
  {
   "cell_type": "markdown",
   "metadata": {
    "slideshow": {
     "slide_type": "subslide"
    }
   },
   "source": [
    "That condition is actually a vectorized function that returns a boolean for each record."
   ]
  },
  {
   "cell_type": "code",
   "execution_count": 19,
   "metadata": {
    "slideshow": {
     "slide_type": "-"
    }
   },
   "outputs": [
    {
     "data": {
      "text/plain": [
       "0       True\n",
       "1       True\n",
       "2       True\n",
       "3       True\n",
       "4      False\n",
       "5      False\n",
       "6      False\n",
       "7      False\n",
       "8      False\n",
       "9      False\n",
       "10     False\n",
       "11     False\n",
       "12     False\n",
       "13     False\n",
       "14     False\n",
       "15     False\n",
       "16     False\n",
       "17     False\n",
       "18     False\n",
       "19     False\n",
       "20     False\n",
       "21     False\n",
       "22     False\n",
       "23     False\n",
       "24     False\n",
       "25     False\n",
       "26     False\n",
       "27     False\n",
       "28     False\n",
       "29     False\n",
       "       ...  \n",
       "254    False\n",
       "255    False\n",
       "256    False\n",
       "257    False\n",
       "258    False\n",
       "259    False\n",
       "260    False\n",
       "261    False\n",
       "262    False\n",
       "263    False\n",
       "264    False\n",
       "265    False\n",
       "266    False\n",
       "267    False\n",
       "268    False\n",
       "269    False\n",
       "270    False\n",
       "271    False\n",
       "272    False\n",
       "273    False\n",
       "274    False\n",
       "275    False\n",
       "276    False\n",
       "277    False\n",
       "278    False\n",
       "279    False\n",
       "280    False\n",
       "281    False\n",
       "282    False\n",
       "283    False\n",
       "Name: Date, Length: 284, dtype: bool"
      ]
     },
     "execution_count": 19,
     "metadata": {},
     "output_type": "execute_result"
    }
   ],
   "source": [
    "df[\"Date\"] > '2018-06-01'"
   ]
  },
  {
   "cell_type": "markdown",
   "metadata": {
    "slideshow": {
     "slide_type": "slide"
    }
   },
   "source": [
    "## Sorting"
   ]
  },
  {
   "cell_type": "code",
   "execution_count": 6,
   "metadata": {},
   "outputs": [
    {
     "data": {
      "text/html": [
       "<div>\n",
       "<style scoped>\n",
       "    .dataframe tbody tr th:only-of-type {\n",
       "        vertical-align: middle;\n",
       "    }\n",
       "\n",
       "    .dataframe tbody tr th {\n",
       "        vertical-align: top;\n",
       "    }\n",
       "\n",
       "    .dataframe thead th {\n",
       "        text-align: right;\n",
       "    }\n",
       "</style>\n",
       "<table border=\"1\" class=\"dataframe\">\n",
       "  <thead>\n",
       "    <tr style=\"text-align: right;\">\n",
       "      <th></th>\n",
       "      <th>Party</th>\n",
       "      <th>Type</th>\n",
       "      <th>Counts</th>\n",
       "      <th>Prohibited act</th>\n",
       "      <th>Amount</th>\n",
       "      <th>Date</th>\n",
       "    </tr>\n",
       "  </thead>\n",
       "  <tbody>\n",
       "    <tr>\n",
       "      <th>209</th>\n",
       "      <td>Purely Organic Products, LLC</td>\n",
       "      <td>Fertilizer notice of violation</td>\n",
       "      <td>49.0</td>\n",
       "      <td>ORS 633.366(1)(e)</td>\n",
       "      <td>NaN</td>\n",
       "      <td>2016-06-05</td>\n",
       "    </tr>\n",
       "    <tr>\n",
       "      <th>49</th>\n",
       "      <td>Wilbur-Ellis Company LLC</td>\n",
       "      <td>Fertilizer notice of violation</td>\n",
       "      <td>27.0</td>\n",
       "      <td>ORS 633.366(1)(e)</td>\n",
       "      <td>NaN</td>\n",
       "      <td>2018-02-05</td>\n",
       "    </tr>\n",
       "    <tr>\n",
       "      <th>88</th>\n",
       "      <td>Sun Gro Horticulture Distribution Inc.</td>\n",
       "      <td>Fertilizer civil penalty</td>\n",
       "      <td>25.0</td>\n",
       "      <td>ORS 633.366(1)(e)</td>\n",
       "      <td>$62,500</td>\n",
       "      <td>2017-09-13</td>\n",
       "    </tr>\n",
       "    <tr>\n",
       "      <th>53</th>\n",
       "      <td>Wilbur-Ellis Company LLC</td>\n",
       "      <td>Fertilizer notice of violation</td>\n",
       "      <td>20.0</td>\n",
       "      <td>ORS 633.366(1)(a)</td>\n",
       "      <td>NaN</td>\n",
       "      <td>2018-02-05</td>\n",
       "    </tr>\n",
       "    <tr>\n",
       "      <th>27</th>\n",
       "      <td>Two Rivers Terminal, LLC</td>\n",
       "      <td>Fertilizer civil penalty</td>\n",
       "      <td>16.0</td>\n",
       "      <td>ORS 633.366(1)(a)</td>\n",
       "      <td>$6,000</td>\n",
       "      <td>2018-02-28</td>\n",
       "    </tr>\n",
       "  </tbody>\n",
       "</table>\n",
       "</div>"
      ],
      "text/plain": [
       "                                      Party                            Type  \\\n",
       "209            Purely Organic Products, LLC  Fertilizer notice of violation   \n",
       "49                 Wilbur-Ellis Company LLC  Fertilizer notice of violation   \n",
       "88   Sun Gro Horticulture Distribution Inc.        Fertilizer civil penalty   \n",
       "53                 Wilbur-Ellis Company LLC  Fertilizer notice of violation   \n",
       "27                 Two Rivers Terminal, LLC        Fertilizer civil penalty   \n",
       "\n",
       "     Counts     Prohibited act   Amount       Date  \n",
       "209    49.0  ORS 633.366(1)(e)      NaN 2016-06-05  \n",
       "49     27.0  ORS 633.366(1)(e)      NaN 2018-02-05  \n",
       "88     25.0  ORS 633.366(1)(e)  $62,500 2017-09-13  \n",
       "53     20.0  ORS 633.366(1)(a)      NaN 2018-02-05  \n",
       "27     16.0  ORS 633.366(1)(a)   $6,000 2018-02-28  "
      ]
     },
     "execution_count": 6,
     "metadata": {},
     "output_type": "execute_result"
    }
   ],
   "source": [
    "df.sort_values(by=\"Counts\", ascending=False).head(5)"
   ]
  },
  {
   "cell_type": "markdown",
   "metadata": {
    "slideshow": {
     "slide_type": "subslide"
    }
   },
   "source": [
    "## Calculated Columns"
   ]
  },
  {
   "cell_type": "code",
   "execution_count": 8,
   "metadata": {},
   "outputs": [],
   "source": [
    "df[\"Amount\"] = df[\"Amount\"].str.replace(\"$\", \"\")\n",
    "df[\"Amount\"] = df[\"Amount\"].str.replace(\",\", \"\")\n",
    "df[\"Amount\"] = pd.to_numeric(df[\"Amount\"])"
   ]
  },
  {
   "cell_type": "code",
   "execution_count": 16,
   "metadata": {},
   "outputs": [
    {
     "data": {
      "text/html": [
       "<div>\n",
       "<style scoped>\n",
       "    .dataframe tbody tr th:only-of-type {\n",
       "        vertical-align: middle;\n",
       "    }\n",
       "\n",
       "    .dataframe tbody tr th {\n",
       "        vertical-align: top;\n",
       "    }\n",
       "\n",
       "    .dataframe thead th {\n",
       "        text-align: right;\n",
       "    }\n",
       "</style>\n",
       "<table border=\"1\" class=\"dataframe\">\n",
       "  <thead>\n",
       "    <tr style=\"text-align: right;\">\n",
       "      <th></th>\n",
       "      <th>Party</th>\n",
       "      <th>Type</th>\n",
       "      <th>Counts</th>\n",
       "      <th>Prohibited act</th>\n",
       "      <th>Amount</th>\n",
       "      <th>Date</th>\n",
       "    </tr>\n",
       "  </thead>\n",
       "  <tbody>\n",
       "    <tr>\n",
       "      <th>88</th>\n",
       "      <td>Sun Gro Horticulture Distribution Inc.</td>\n",
       "      <td>Fertilizer civil penalty</td>\n",
       "      <td>25.0</td>\n",
       "      <td>ORS 633.366(1)(e)</td>\n",
       "      <td>62500.0</td>\n",
       "      <td>2017-09-13</td>\n",
       "    </tr>\n",
       "    <tr>\n",
       "      <th>37</th>\n",
       "      <td>Dr. Earth, Inc.</td>\n",
       "      <td>Fertilizer civil penalty</td>\n",
       "      <td>10.0</td>\n",
       "      <td>ORS 633.366(1)(a)</td>\n",
       "      <td>25000.0</td>\n",
       "      <td>2018-02-18</td>\n",
       "    </tr>\n",
       "    <tr>\n",
       "      <th>140</th>\n",
       "      <td>J.R. Simplot Company</td>\n",
       "      <td>Fertilizer civil penalty</td>\n",
       "      <td>6.0</td>\n",
       "      <td>ORS 633.366(1)(a)</td>\n",
       "      <td>11250.0</td>\n",
       "      <td>2017-02-17</td>\n",
       "    </tr>\n",
       "    <tr>\n",
       "      <th>117</th>\n",
       "      <td>Central Garden &amp; Pet Company</td>\n",
       "      <td>Fertilizer civil penalty</td>\n",
       "      <td>4.0</td>\n",
       "      <td>ORS 633.366(1)(a)</td>\n",
       "      <td>10000.0</td>\n",
       "      <td>2017-06-13</td>\n",
       "    </tr>\n",
       "    <tr>\n",
       "      <th>24</th>\n",
       "      <td>Two Rivers Terminal, LLC</td>\n",
       "      <td>Fertilizer civil penalty</td>\n",
       "      <td>3.0</td>\n",
       "      <td>ORS 633.366(1)(e)</td>\n",
       "      <td>7500.0</td>\n",
       "      <td>2018-02-28</td>\n",
       "    </tr>\n",
       "  </tbody>\n",
       "</table>\n",
       "</div>"
      ],
      "text/plain": [
       "                                      Party                      Type  Counts  \\\n",
       "88   Sun Gro Horticulture Distribution Inc.  Fertilizer civil penalty    25.0   \n",
       "37                          Dr. Earth, Inc.  Fertilizer civil penalty    10.0   \n",
       "140                    J.R. Simplot Company  Fertilizer civil penalty     6.0   \n",
       "117            Central Garden & Pet Company  Fertilizer civil penalty     4.0   \n",
       "24                 Two Rivers Terminal, LLC  Fertilizer civil penalty     3.0   \n",
       "\n",
       "        Prohibited act   Amount       Date  \n",
       "88   ORS 633.366(1)(e)  62500.0 2017-09-13  \n",
       "37   ORS 633.366(1)(a)  25000.0 2018-02-18  \n",
       "140  ORS 633.366(1)(a)  11250.0 2017-02-17  \n",
       "117  ORS 633.366(1)(a)  10000.0 2017-06-13  \n",
       "24   ORS 633.366(1)(e)   7500.0 2018-02-28  "
      ]
     },
     "execution_count": 16,
     "metadata": {},
     "output_type": "execute_result"
    }
   ],
   "source": [
    "df.sort_values(by=\"Amount\", ascending=False).head(5)"
   ]
  },
  {
   "cell_type": "markdown",
   "metadata": {
    "slideshow": {
     "slide_type": "slide"
    }
   },
   "source": [
    "## Grouping and Aggregation"
   ]
  },
  {
   "cell_type": "code",
   "execution_count": 10,
   "metadata": {},
   "outputs": [
    {
     "data": {
      "text/html": [
       "<div>\n",
       "<style scoped>\n",
       "    .dataframe tbody tr th:only-of-type {\n",
       "        vertical-align: middle;\n",
       "    }\n",
       "\n",
       "    .dataframe tbody tr th {\n",
       "        vertical-align: top;\n",
       "    }\n",
       "\n",
       "    .dataframe thead th {\n",
       "        text-align: right;\n",
       "    }\n",
       "</style>\n",
       "<table border=\"1\" class=\"dataframe\">\n",
       "  <thead>\n",
       "    <tr style=\"text-align: right;\">\n",
       "      <th></th>\n",
       "      <th>Amount</th>\n",
       "    </tr>\n",
       "    <tr>\n",
       "      <th>Date</th>\n",
       "      <th></th>\n",
       "    </tr>\n",
       "  </thead>\n",
       "  <tbody>\n",
       "    <tr>\n",
       "      <th>2017-09-01</th>\n",
       "      <td>66125.0</td>\n",
       "    </tr>\n",
       "    <tr>\n",
       "      <th>2017-10-01</th>\n",
       "      <td>0.0</td>\n",
       "    </tr>\n",
       "    <tr>\n",
       "      <th>2017-11-01</th>\n",
       "      <td>0.0</td>\n",
       "    </tr>\n",
       "    <tr>\n",
       "      <th>2017-12-01</th>\n",
       "      <td>0.0</td>\n",
       "    </tr>\n",
       "    <tr>\n",
       "      <th>2018-01-01</th>\n",
       "      <td>5500.0</td>\n",
       "    </tr>\n",
       "    <tr>\n",
       "      <th>2018-02-01</th>\n",
       "      <td>51750.0</td>\n",
       "    </tr>\n",
       "    <tr>\n",
       "      <th>2018-03-01</th>\n",
       "      <td>875.0</td>\n",
       "    </tr>\n",
       "    <tr>\n",
       "      <th>2018-04-01</th>\n",
       "      <td>375.0</td>\n",
       "    </tr>\n",
       "    <tr>\n",
       "      <th>2018-05-01</th>\n",
       "      <td>2375.0</td>\n",
       "    </tr>\n",
       "    <tr>\n",
       "      <th>2018-06-01</th>\n",
       "      <td>0.0</td>\n",
       "    </tr>\n",
       "  </tbody>\n",
       "</table>\n",
       "</div>"
      ],
      "text/plain": [
       "             Amount\n",
       "Date               \n",
       "2017-09-01  66125.0\n",
       "2017-10-01      0.0\n",
       "2017-11-01      0.0\n",
       "2017-12-01      0.0\n",
       "2018-01-01   5500.0\n",
       "2018-02-01  51750.0\n",
       "2018-03-01    875.0\n",
       "2018-04-01    375.0\n",
       "2018-05-01   2375.0\n",
       "2018-06-01      0.0"
      ]
     },
     "execution_count": 10,
     "metadata": {},
     "output_type": "execute_result"
    }
   ],
   "source": [
    "tdf = df.groupby(pd.Grouper(key=\"Date\", freq=\"MS\"))[[\"Amount\"]].sum()\n",
    "tdf.tail(10)"
   ]
  },
  {
   "cell_type": "markdown",
   "metadata": {
    "slideshow": {
     "slide_type": "slide"
    }
   },
   "source": [
    "## Plotting and Visualization"
   ]
  },
  {
   "cell_type": "code",
   "execution_count": 11,
   "metadata": {},
   "outputs": [
    {
     "data": {
      "text/plain": [
       "<matplotlib.axes._subplots.AxesSubplot at 0x273034ee3c8>"
      ]
     },
     "execution_count": 11,
     "metadata": {},
     "output_type": "execute_result"
    },
    {
     "data": {
      "image/png": "[encoded data removed]",
      "text/plain": [
       "<Figure size 432x288 with 1 Axes>"
      ]
     },
     "metadata": {
      "needs_background": "light"
     },
     "output_type": "display_data"
    }
   ],
   "source": [
    "import matplotlib.pylab as plt\n",
    "\n",
    "tdf.plot(kind='area')"
   ]
  },
  {
   "cell_type": "markdown",
   "metadata": {
    "slideshow": {
     "slide_type": "-"
    }
   },
   "source": [
    "That chart was kind of ugly though. It does take a little bit of effort to make something presentable."
   ]
  },
  {
   "cell_type": "code",
   "execution_count": 12,
   "metadata": {
    "slideshow": {
     "slide_type": "slide"
    }
   },
   "outputs": [
    {
     "data": {
      "text/plain": [
       "Text(0, 0.5, 'Fines ($)')"
      ]
     },
     "execution_count": 12,
     "metadata": {},
     "output_type": "execute_result"
    },
    {
     "data": {
      "image/png": "[encoded data removed]",
      "text/plain": [
       "<Figure size 432x288 with 1 Axes>"
      ]
     },
     "metadata": {
      "needs_background": "light"
     },
     "output_type": "display_data"
    }
   ],
   "source": [
    "plt.style.use('bmh')\n",
    "ax = tdf.plot(kind='area')\n",
    "\n",
    "ax.set_title('When fertilizer notices and penalities are assessed')\n",
    "ax.set_ylabel(\"Fines ($)\")"
   ]
  },
  {
   "cell_type": "markdown",
   "metadata": {},
   "source": [
    "I'll admit. Coding visuals seems a bit tedious and the defaults are less sensible than Excel, but it does let you get exactly what you want."
   ]
  },
  {
   "cell_type": "code",
   "execution_count": 13,
   "metadata": {
    "slideshow": {
     "slide_type": "subslide"
    }
   },
   "outputs": [
    {
     "data": {
      "text/plain": [
       "Text(0, 0.5, 'Fines ($)')"
      ]
     },
     "execution_count": 13,
     "metadata": {},
     "output_type": "execute_result"
    },
    {
     "data": {
      "image/png": "[encoded data removed]",
      "text/plain": [
       "<Figure size 432x288 with 1 Axes>"
      ]
     },
     "metadata": {},
     "output_type": "display_data"
    }
   ],
   "source": [
    "plt.style.use('fivethirtyeight')\n",
    "ax = tdf.plot(kind='line')\n",
    "\n",
    "ax.set_title('When fertilizer notices and penalities are assessed')\n",
    "ax.set_ylabel(\"Fines ($)\")"
   ]
  },
  {
   "cell_type": "code",
   "execution_count": 15,
   "metadata": {
    "slideshow": {
     "slide_type": "subslide"
    }
   },
   "outputs": [
    {
     "data": {
      "text/plain": [
       "Text(0, 0.5, 'Fines ($)')"
      ]
     },
     "execution_count": 15,
     "metadata": {},
     "output_type": "execute_result"
    },
    {
     "data": {
      "image/png": "[encoded data removed]",
      "text/plain": [
       "<Figure size 432x288 with 1 Axes>"
      ]
     },
     "metadata": {},
     "output_type": "display_data"
    }
   ],
   "source": [
    "with plt.xkcd():\n",
    "    ax = tdf.plot(kind='line')\n",
    "\n",
    "ax.set_title('When fertilizer notices and penalities are assessed')\n",
    "ax.set_ylabel(\"Fines ($)\")"
   ]
  },
  {
   "cell_type": "markdown",
   "metadata": {},
   "source": [
    "# The Future of Notebooks"
   ]
  },
  {
   "cell_type": "markdown",
   "metadata": {},
   "source": [
    "Notebooks are not only changing the data analysis story, but also data science, and data engineering.\n",
    "\n",
    "![Netflix Engineering Blog](Images/Netflix.png)"
   ]
  },
  {
   "cell_type": "markdown",
   "metadata": {},
   "source": [
    "All tiers of data workers will be unified under one coding paradigm. \n",
    "\n",
    "The same way that machine learning models are produced is\n",
    "* how models wil receive their training data\n",
    "* and how their business value will be determined."
   ]
  }
 ],
 "metadata": {
  "kernelspec": {
   "display_name": "Python 3",
   "language": "python",
   "name": "python3"
  },
  "language_info": {
   "codemirror_mode": {
    "name": "ipython",
    "version": 3
   },
   "file_extension": ".py",
   "mimetype": "text/x-python",
   "name": "python",
   "nbconvert_exporter": "python",
   "pygments_lexer": "ipython3",
   "version": "3.7.0"
  }
 },
 "nbformat": 4,
 "nbformat_minor": 2
}
